{
 "cells": [
  {
   "cell_type": "code",
   "execution_count": 1,
   "id": "3e7495fd",
   "metadata": {},
   "outputs": [],
   "source": [
    "from openai import AzureOpenAI\n",
    "from azure.core.credentials import AzureKeyCredential\n",
    "from azure.search.documents.models import VectorizedQuery\n",
    "from azure.search.documents import SearchClient, IndexDocumentsBatch"
   ]
  },
  {
   "cell_type": "code",
   "execution_count": null,
   "metadata": {},
   "outputs": [],
   "source": [
    "# Azure Embedding Model\n",
    "AOAI_ENDPOINT = \"https://vigne-mbw9rlh6-eastus2.cognitiveservices.azure.com/openai/deployments/text-embedding-ada-002/embeddings?api-version=2023-05-15\"\n",
    "AOAI_KEY =\"..\"\n",
    "AOAI_API_VERSION = \"2023-05-15\"        # Use a recent, available API version\n",
    "AOAI_EMBEDDING_MODEL_DEPLOYMENT = \"text-embedding-ada-002\" # Your deployment name for the embedding model\n",
    "\n",
    "\n",
    "# Azure AI Search\n",
    "SEARCH_ENDPOINT =\"https://careintel-search.search.windows.net\"\n",
    "SEARCH_KEY =\"..\"\n",
    "INDEX_NAME = \"careintel-enriched-index\" # A name for your new search index"
   ]
  },
  {
   "cell_type": "code",
   "execution_count": 3,
   "id": "43a56a96",
   "metadata": {},
   "outputs": [],
   "source": [
    "def generate_embedding(text, model=AOAI_EMBEDDING_MODEL_DEPLOYMENT):\n",
    "    \"\"\"Generates a vector embedding for a given piece of text.\"\"\"\n",
    "    try:\n",
    "        # OpenAI API does not accept empty strings, so we send a space instead\n",
    "        return client.embeddings.create(input=[text if text.strip() else \" \"], model=model).data[0].embedding\n",
    "    except Exception as e:\n",
    "        print(f\"Error generating embedding for text: '{text[:50]}...'. Error: {e}\")\n",
    "        return None"
   ]
  },
  {
   "cell_type": "code",
   "execution_count": 4,
   "id": "51ec9833",
   "metadata": {},
   "outputs": [],
   "source": [
    "client = AzureOpenAI(\n",
    "  api_key=AOAI_KEY,\n",
    "  api_version=AOAI_API_VERSION,\n",
    "  azure_endpoint=AOAI_ENDPOINT\n",
    ")"
   ]
  },
  {
   "cell_type": "code",
   "execution_count": 39,
   "id": "c07deda5",
   "metadata": {},
   "outputs": [
    {
     "name": "stdout",
     "output_type": "stream",
     "text": [
      "Query: 'Are patients coming back to the ICU within two days of discharge?'\n",
      "Role: 'managers'\n",
      "\n",
      "Relevant results from our knowledge base for this role:\n",
      "\n"
     ]
    }
   ],
   "source": [
    "\n",
    "user_query = \"Are patients coming back to the ICU within two days of discharge?\"\n",
    "user_role = \"managers\" \n",
    "\n",
    "# 1. Generate an embedding for the user's query\n",
    "query_vector = generate_embedding(user_query)\n",
    "\n",
    "# 2. Perform the vector search with a role filter\n",
    "if query_vector:\n",
    "    vector_query = VectorizedQuery(vector=query_vector, k_nearest_neighbors=3, fields=\"content_vector\")\n",
    "    \n",
    "    search_client = SearchClient(endpoint=SEARCH_ENDPOINT, index_name=INDEX_NAME, credential=AzureKeyCredential(SEARCH_KEY))\n",
    "\n",
    "    # *** FINAL CODE CHANGE ***\n",
    "    # Using a standard text search (`search_text`) on the `accessible_to_roles`\n",
    "    # field. This is a more direct and reliable method than using a complex filter.\n",
    "    results = search_client.search(\n",
    "        search_text=user_role,\n",
    "        search_fields=[\"accessible_to_roles\"],\n",
    "        vector_queries=[vector_query],\n",
    "        select=[\"table_name\", \"column_name\", \"content\", \"accessible_to_roles\"],\n",
    "        top=3,  # Adjust the number of results as needed\n",
    "    )\n",
    "\n",
    "    # 3. Print the results\n",
    "    print(f\"Query: '{user_query}'\")\n",
    "    print(f\"Role: '{user_role}'\\n\")\n",
    "    print(\"Relevant results from our knowledge base for this role:\\n\")\n",
    "    \n",
    "#     # Check if the iterator has any items before looping\n",
    "#     results_list = list(results)\n",
    "#     if not results_list:\n",
    "#         print(\"No results found for the given query and role.\")\n",
    "#     else:\n",
    "#         for result in results_list:\n",
    "#             print(f\"  Score: {result['@search.score']:.4f}\")\n",
    "#             print(f\"  Table: {result['table_name']}\")\n",
    "#             print(f\"  Column: {result['column_name']}\")\n",
    "#             print(f\"  Content: {result['content']}\")\n",
    "#             print(f\"  Accessible To: {result['accessible_to_roles']}\\n\")\n",
    "#             print(\"-\" * 20)\n",
    "# else:\n",
    "#     print(\"Could not generate a query vector.\")"
   ]
  },
  {
   "cell_type": "code",
   "execution_count": 40,
   "id": "985b64e0",
   "metadata": {},
   "outputs": [
    {
     "name": "stdout",
     "output_type": "stream",
     "text": [
      "Found 3 results:\n"
     ]
    }
   ],
   "source": [
    "# Check if the iterator has any items before looping\n",
    "results_list = list(results)\n",
    "if not results_list:\n",
    "    print(\"No results found for the given query and role.\")\n",
    "else:\n",
    "    print(f\"Found {len(results_list)} results:\")\n",
    "    cleaned_results = [\n",
    "        {\n",
    "            \"KPI/Metric\": item[\"column_name\"],\n",
    "            \"content\": item[\"content\"],\n",
    "            \"table_name\": item[\"table_name\"]\n",
    "        }\n",
    "        for item in results_list\n",
    "    ]"
   ]
  },
  {
   "cell_type": "code",
   "execution_count": 41,
   "id": "dca380ae",
   "metadata": {},
   "outputs": [
    {
     "data": {
      "text/plain": [
       "[{'KPI/Metric': 'icu_readmission_rate_48h',\n",
       "  'content': 'Metric: icu_readmission_rate_48h. Description: Percentage of patients readmitted to ICU within 48 hours. Calculation: (ICU Readmissions within 48h / Total Discharges) * 100. Belongs to dataset:  icu_metrics.',\n",
       "  'table_name': 'icu_metrics'},\n",
       " {'KPI/Metric': 'readmission_rate_30d',\n",
       "  'content': 'Metric: readmission_rate_30d. Description: Percentage of patients readmitted within 30 days. Calculation: (30-Day Readmissions / Discharges) * 100. Belongs to dataset: inpatient_ward_metrics.',\n",
       "  'table_name': 'inpatient_ward_metrics'},\n",
       " {'KPI/Metric': 'avg_length_of_stay_days',\n",
       "  'content': 'Metric: avg_length_of_stay_days. Description: Average length of stay in ICU in days. Calculation: Total ICU Days / Number of Discharges. Belongs to dataset:  icu_metrics.',\n",
       "  'table_name': 'icu_metrics'}]"
      ]
     },
     "execution_count": 41,
     "metadata": {},
     "output_type": "execute_result"
    }
   ],
   "source": [
    "cleaned_results"
   ]
  },
  {
   "cell_type": "code",
   "execution_count": 14,
   "id": "bd089e85",
   "metadata": {},
   "outputs": [
    {
     "name": "stdout",
     "output_type": "stream",
     "text": [
      "No results found for the given query and role.\n"
     ]
    }
   ],
   "source": [
    "# Check if the iterator has any items before looping\n",
    "results_list = list(results)\n",
    "if not results_list:\n",
    "    print(\"No results found for the given query and role.\")\n",
    "else:\n",
    "    for result in results_list:\n",
    "        print(f\"  Score: {result['@search.score']:.4f}\")\n",
    "        print(f\"  Table: {result['table_name']}\")\n",
    "        print(f\"  Column: {result['column_name']}\")\n",
    "        print(f\"  Content: {result['content']}\")\n",
    "        print(f\"  Accessible To: {result['accessible_to_roles']}\\n\")\n",
    "        print(\"-\" * 20)"
   ]
  },
  {
   "cell_type": "code",
   "execution_count": 13,
   "id": "5b972c01",
   "metadata": {},
   "outputs": [
    {
     "data": {
      "text/plain": [
       "[{'accessible_to_roles': 'managers',\n",
       "  'column_name': 'icu_readmission_rate_48h',\n",
       "  'content': 'Metric: icu_readmission_rate_48h. Description: Percentage of patients readmitted to ICU within 48 hours. Calculation: (ICU Readmissions within 48h / Total Discharges) * 100. Belongs to dataset:  icu_metrics.',\n",
       "  'table_name': 'icu_metrics',\n",
       "  '@search.score': 0.02500000223517418,\n",
       "  '@search.reranker_score': None,\n",
       "  '@search.highlights': None,\n",
       "  '@search.captions': None},\n",
       " {'accessible_to_roles': 'managers',\n",
       "  'column_name': 'readmission_rate_30d',\n",
       "  'content': 'Metric: readmission_rate_30d. Description: Percentage of patients readmitted within 30 days. Calculation: (30-Day Readmissions / Discharges) * 100. Belongs to dataset: inpatient_ward_metrics.',\n",
       "  'table_name': 'inpatient_ward_metrics',\n",
       "  '@search.score': 0.02432994917035103,\n",
       "  '@search.reranker_score': None,\n",
       "  '@search.highlights': None,\n",
       "  '@search.captions': None},\n",
       " {'accessible_to_roles': 'administrative_staff,managers',\n",
       "  'column_name': 'avg_length_of_stay_days',\n",
       "  'content': 'Metric: avg_length_of_stay_days. Description: Average length of stay in ICU in days. Calculation: Total ICU Days / Number of Discharges. Belongs to dataset:  icu_metrics.',\n",
       "  'table_name': 'icu_metrics',\n",
       "  '@search.score': 0.023428302258253098,\n",
       "  '@search.reranker_score': None,\n",
       "  '@search.highlights': None,\n",
       "  '@search.captions': None}]"
      ]
     },
     "execution_count": 13,
     "metadata": {},
     "output_type": "execute_result"
    }
   ],
   "source": [
    "results_list"
   ]
  },
  {
   "cell_type": "code",
   "execution_count": null,
   "id": "814ff8dc",
   "metadata": {},
   "outputs": [],
   "source": []
  }
 ],
 "metadata": {
  "kernelspec": {
   "display_name": ".venv",
   "language": "python",
   "name": "python3"
  },
  "language_info": {
   "codemirror_mode": {
    "name": "ipython",
    "version": 3
   },
   "file_extension": ".py",
   "mimetype": "text/x-python",
   "name": "python",
   "nbconvert_exporter": "python",
   "pygments_lexer": "ipython3",
   "version": "3.12.0"
  }
 },
 "nbformat": 4,
 "nbformat_minor": 5
}
