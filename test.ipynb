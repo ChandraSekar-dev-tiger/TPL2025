{
 "cells": [
  {
   "cell_type": "code",
   "execution_count": 1,
   "id": "61160768",
   "metadata": {},
   "outputs": [
    {
     "data": {
      "text/plain": [
       "True"
      ]
     },
     "execution_count": 1,
     "metadata": {},
     "output_type": "execute_result"
    }
   ],
   "source": [
    "import os\n",
    "from dotenv import load_dotenv\n",
    "\n",
    "load_dotenv()  # Loads from .env"
   ]
  },
  {
   "cell_type": "code",
   "execution_count": 3,
   "id": "7ff7c02d",
   "metadata": {},
   "outputs": [
    {
     "name": "stdout",
     "output_type": "stream",
     "text": [
      "OpenAI response:\n",
      " Tiger Analytics is a company that helps organizations turn raw data into useful insights and smart decisions. Here it is in simple terms:\n",
      "\n",
      "1. What they do  \n",
      "   • Collect and clean data (from sales records, customer feedback, sensors, etc.)  \n",
      "   • Use statistics and machine-learning models (“smart computer programs”) to spot patterns  \n",
      "   • Build easy-to-use dashboards and reports so teams can see what’s happening in real time  \n",
      "   • Automate routine tasks (for example, predicting when a machine might fail or which customers might leave)\n",
      "\n",
      "2. Why it matters  \n",
      "   • Helps companies save money (by spotting inefficiencies)  \n",
      "   • Increases revenue (by identifying best customers or products)  \n",
      "   • Improves customer experience (by offering personalized services)  \n",
      "   • Speeds up decision-making (by giving managers clear, data-driven recommendations)\n",
      "\n",
      "3. Who they work with  \n",
      "   • Banks and financial firms (fraud detection, risk management)  \n",
      "   • Retailers and CPG companies (demand forecasting, inventory optimization)  \n",
      "   • Manufacturing and healthcare (quality control, patient outcome predictions)  \n",
      "   • Technology and telecom (network optimization, customer churn analytics)\n",
      "\n",
      "4. How they do it  \n",
      "   • A mix of data engineers, data scientists, and business consultants work together  \n",
      "   • They build custom solutions—no “one-size-fits-all” tools  \n",
      "   • Use cloud platforms (AWS, Azure, Google Cloud) and open-source software (Python, R)\n",
      "\n",
      "5. Extra support  \n",
      "   • Tiger Analytics Academy: training programs for companies and individuals who want to learn data science skills  \n",
      "\n",
      "In a nutshell, Tiger Analytics is like a team of data detectives and engineers who help businesses ask smart questions of their data—and then give them the tools and models to answer those questions reliably.\n"
     ]
    }
   ],
   "source": [
    "import os\n",
    "from langchain_openai import AzureChatOpenAI\n",
    "\n",
    "llm = AzureChatOpenAI(\n",
    "    api_version=os.getenv(\"AZURE_API_VERSION\"),\n",
    "    azure_endpoint=os.getenv(\"AZURE_MODEL_FOUNDRY_ENDPOINT\"),\n",
    "    azure_deployment= os.getenv(\"AZURE_DEPLOYMENT_NAME\"),\n",
    "    api_key=os.getenv(\"AZURE_MODEL_FOUNDRY_API_KEY\"),\n",
    ")\n",
    "\n",
    "prompt = \"Explain about tiger analytics in simple terms\"\n",
    "\n",
    "response = llm.invoke(prompt)\n",
    "\n",
    "print(\"OpenAI response:\\n\", response.content)"
   ]
  },
  {
   "cell_type": "code",
   "execution_count": 4,
   "id": "f2446364",
   "metadata": {},
   "outputs": [],
   "source": [
    "from agents.llm_client import llm_client"
   ]
  },
  {
   "cell_type": "code",
   "execution_count": 5,
   "id": "d1d15152",
   "metadata": {},
   "outputs": [
    {
     "data": {
      "text/plain": [
       "'Hello! How can I help you today?'"
      ]
     },
     "execution_count": 5,
     "metadata": {},
     "output_type": "execute_result"
    }
   ],
   "source": [
    "llm_client.call_llm(\"Hi\")"
   ]
  }
 ],
 "metadata": {
  "kernelspec": {
   "display_name": "healthcare",
   "language": "python",
   "name": "python3"
  },
  "language_info": {
   "codemirror_mode": {
    "name": "ipython",
    "version": 3
   },
   "file_extension": ".py",
   "mimetype": "text/x-python",
   "name": "python",
   "nbconvert_exporter": "python",
   "pygments_lexer": "ipython3",
   "version": "3.12.11"
  }
 },
 "nbformat": 4,
 "nbformat_minor": 5
}
